{
 "cells": [
  {
   "cell_type": "markdown",
   "metadata": {},
   "source": [
    "### Scraping all the available Singapore East-West MRT stations and respective links provided by PropertyGuru"
   ]
  },
  {
   "cell_type": "code",
   "execution_count": 1,
   "metadata": {},
   "outputs": [],
   "source": [
    "from selenium import webdriver\n",
    "import pandas as pd\n",
    "\n",
    "driver = webdriver.Firefox()\n",
    "url = 'https://www.propertyguru.com.sg/mrt/singapore-property-listings-for-sale'\n",
    "            \n",
    "driver.get(url)\n",
    "MRT_obj = driver.find_elements_by_xpath(\"//li//a[@class='bluelink']\")\n",
    "\n",
    "out = pd.DataFrame(columns=['MRT','link'])\n",
    "\n",
    "MRT_name = [x.text for x in MRT_obj if 'EW' in x.text]\n",
    "MRT_link = [x.get_attribute(\"href\") for x in MRT_obj if 'EW' in x.text]\n",
    "MRT_link = [MRT_link[i].replace('sale','rent') for i in range(len(MRT_link))]\n",
    "\n",
    "out['MRT'] = MRT_name\n",
    "out['link'] = MRT_link\n",
    "\n",
    "out.to_csv('scraped_data/available_MRT.csv')"
   ]
  }
 ],
 "metadata": {
  "kernelspec": {
   "display_name": "Python 3",
   "language": "python",
   "name": "python3"
  },
  "language_info": {
   "codemirror_mode": {
    "name": "ipython",
    "version": 3
   },
   "file_extension": ".py",
   "mimetype": "text/x-python",
   "name": "python",
   "nbconvert_exporter": "python",
   "pygments_lexer": "ipython3",
   "version": "3.6.4"
  }
 },
 "nbformat": 4,
 "nbformat_minor": 2
}
