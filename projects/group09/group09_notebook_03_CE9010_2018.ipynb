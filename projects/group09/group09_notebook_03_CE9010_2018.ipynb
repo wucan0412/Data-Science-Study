{
 "cells": [
  {
   "cell_type": "markdown",
   "metadata": {},
   "source": [
    "# Combining data\n",
    "This file combines all the scrapped files into a single csv file."
   ]
  },
  {
   "cell_type": "code",
   "execution_count": 8,
   "metadata": {},
   "outputs": [],
   "source": [
    "import os\n",
    "import pandas as pd\n",
    "import numpy as np\n",
    "import re"
   ]
  },
  {
   "cell_type": "code",
   "execution_count": 9,
   "metadata": {},
   "outputs": [
    {
     "name": "stdout",
     "output_type": "stream",
     "text": [
      "Reading rental_data_EW1 Pasir Ris MRT Station_2018April10.csv ...\n",
      "Reading rental_data_EW10 Kallang MRT Station_2018April10.csv ...\n",
      "Reading rental_data_EW11 Lavender MRT Station_2018April10.csv ...\n",
      "Reading rental_data_EW11 Lavender MRT Station_2018April10_p2.csv ...\n",
      "Reading rental_data_EW12 Bugis MRT Station_2018April10.csv ...\n",
      "Reading rental_data_EW13 City Hall MRT Station_2018April10.csv ...\n",
      "Reading rental_data_EW14 Raffles Place MRT Station_2018April10.csv ...\n",
      "Reading rental_data_EW15 Tanjong Pagar MRT Station_2018April10.csv ...\n",
      "Reading rental_data_EW15 Tanjong Pagar MRT Station_2018April10_p2.csv ...\n",
      "Reading rental_data_EW16 Outram Park MRT Station_2018April10.csv ...\n",
      "Reading rental_data_EW16 Outram Park MRT Station_2018April10_p2.csv ...\n",
      "Reading rental_data_EW16 Outram Park MRT Station_2018April10_p3.csv ...\n",
      "Reading rental_data_EW16 Outram Park MRT Station_2018April10_p4.csv ...\n",
      "Reading rental_data_EW16 Outram Park MRT Station_2018April10_p5.csv ...\n",
      "Reading rental_data_EW17 Tiong Bahru MRT Station_2018April10.csv ...\n",
      "Reading rental_data_EW17 Tiong Bahru MRT Station_2018April10_p2.csv ...\n",
      "Reading rental_data_EW18 Redhill MRT Station_2018April10.csv ...\n",
      "Reading rental_data_EW18 Redhill MRT Station_2018April10_p2.csv ...\n",
      "Reading rental_data_EW19 Queenstown MRT Station_2018April10.csv ...\n",
      "Reading rental_data_EW19 Queenstown MRT Station_2018April10_p2.csv ...\n",
      "Reading rental_data_EW19 Queenstown MRT Station_2018April10_p3.csv ...\n",
      "Reading rental_data_EW2 Tampines MRT Station_2018April10.csv ...\n",
      "Reading rental_data_EW2 Tampines MRT Station_2018April10_p2.csv ...\n",
      "Reading rental_data_EW2 Tampines MRT Station_2018April10_p3.csv ...\n",
      "Reading rental_data_EW20 Commonwealth MRT Station_2018April10.csv ...\n",
      "Reading rental_data_EW20 Commonwealth MRT Station_2018April10_p3.csv ...\n",
      "Reading rental_data_EW21 Buona Vista MRT Station_2018April10.csv ...\n",
      "Reading rental_data_EW21 Buona Vista MRT Station_2018April10_p2.csv ...\n",
      "Reading rental_data_EW22 Dover MRT Station_2018April10.csv ...\n",
      "Reading rental_data_EW23 Clementi MRT Station_2018April10.csv ...\n",
      "Reading rental_data_EW24 Jurong East MRT Station_2018April10.csv ...\n",
      "Reading rental_data_EW25 Chinese Garden MRT Station_2018April10.csv ...\n",
      "Reading rental_data_EW26 Lakeside MRT Station_2018April10.csv ...\n",
      "Reading rental_data_EW27 Boon Lay MRT Station_2018April10.csv ...\n",
      "Reading rental_data_EW28 Pioneer MRT Station_2018April10.csv ...\n",
      "Reading rental_data_EW3 Simei MRT Station_2018April10.csv ...\n",
      "Reading rental_data_EW4 Tanah Merah MRT Station_2018April10.csv ...\n",
      "Reading rental_data_EW4 Tanah Merah MRT Station_2018April10_p2.csv ...\n",
      "Reading rental_data_EW5 Bedok MRT Station_2018April10.csv ...\n",
      "Reading rental_data_EW6 Kembangan MRT Station_2018April10.csv ...\n",
      "Reading rental_data_EW6 Kembangan MRT Station_2018April10_p2.csv ...\n",
      "Reading rental_data_EW7 Eunos MRT Station_2018April10.csv ...\n",
      "Reading rental_data_EW7 Eunos MRT Station_2018April10_p2.csv ...\n",
      "Reading rental_data_EW8 Paya Lebar MRT Station_2018April10.csv ...\n",
      "Reading rental_data_EW9 Aljunied MRT Station_2018April10.csv ...\n",
      "Reading rental_data_EW9 Aljunied MRT Station_2018April10_p2.csv ...\n"
     ]
    }
   ],
   "source": [
    "#Reading all the data into dataframe\n",
    "os.chdir('scraped_data/')\n",
    "cols=['index','name','details','size','address','available time','bed','bath','price','nearest MRT','distance']\n",
    "data = pd.DataFrame(columns=cols)\n",
    "for f in os.listdir('.'):\n",
    "    if 'EW' in f:\n",
    "        print('Reading',f,'...')\n",
    "        temp= pd.read_csv(f,header=None,encoding = \"ISO-8859-1\",names=cols)\n",
    "        data=data.append(temp)\n",
    "\n",
    "data.reset_index(inplace=True,drop=True)"
   ]
  },
  {
   "cell_type": "code",
   "execution_count": 26,
   "metadata": {},
   "outputs": [],
   "source": [
    "#output the data\n",
    "os.chdir('..')\n",
    "data.to_csv('data/data.csv')"
   ]
  }
 ],
 "metadata": {
  "kernelspec": {
   "display_name": "Python 3",
   "language": "python",
   "name": "python3"
  },
  "language_info": {
   "codemirror_mode": {
    "name": "ipython",
    "version": 3
   },
   "file_extension": ".py",
   "mimetype": "text/x-python",
   "name": "python",
   "nbconvert_exporter": "python",
   "pygments_lexer": "ipython3",
   "version": "3.6.4"
  }
 },
 "nbformat": 4,
 "nbformat_minor": 2
}
