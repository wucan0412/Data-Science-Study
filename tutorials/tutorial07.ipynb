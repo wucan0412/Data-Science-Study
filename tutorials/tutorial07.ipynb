{
 "cells": [
  {
   "cell_type": "markdown",
   "metadata": {},
   "source": [
    "## CE9010: Introduction to Data Science\n",
    "## Semester 2 2017/18\n",
    "## Xavier Bresson\n",
    "<hr>\n",
    "\n",
    "## Tutorial 7: PCA\n",
    "## Objectives\n",
    "### $\\bullet$ Code the PCA algorithm\n",
    "### $\\bullet$ Explore PCA as visualization tool\n",
    "### $\\bullet$ Apply PCA for data generation\n",
    "<hr>"
   ]
  },
  {
   "cell_type": "code",
   "execution_count": null,
   "metadata": {
    "collapsed": true
   },
   "outputs": [],
   "source": [
    "# Import libraries\n",
    "\n",
    "# math library\n",
    "import numpy as np\n",
    "\n",
    "# remove warning\n",
    "import warnings\n",
    "warnings.filterwarnings(\"ignore\", category=RuntimeWarning) \n",
    "\n",
    "# computational time\n",
    "import time\n",
    "\n",
    "# import mat data\n",
    "import scipy.io\n",
    "\n",
    "# dynamic 3D rotations:\n",
    "%matplotlib notebook \n",
    "# no 3D rotations but cleaner images:\n",
    "#%matplotlib inline    \n",
    "import matplotlib.pyplot as plt\n",
    "\n",
    "# 3D visualization\n",
    "import pylab\n",
    "from mpl_toolkits.mplot3d import Axes3D\n",
    "from matplotlib import pyplot\n",
    "\n",
    "# high definition picture\n",
    "from IPython.display import set_matplotlib_formats\n",
    "set_matplotlib_formats('png2x','pdf')\n",
    "\n",
    "# visualize 2D images\n",
    "import scipy.ndimage\n"
   ]
  },
  {
   "cell_type": "markdown",
   "metadata": {},
   "source": [
    "## 1.1 Load dataset\n",
    "<hr>\n",
    "The data features are $x_i=(x_{i(1)},x_{i(2)})$. <br>\n",
    "\n",
    "Plot the data points.<br>"
   ]
  },
  {
   "cell_type": "code",
   "execution_count": null,
   "metadata": {
    "collapsed": true
   },
   "outputs": [],
   "source": [
    "# Training set\n",
    "data = np.loadtxt('data/pca01.txt', delimiter=',')"
   ]
  },
  {
   "cell_type": "code",
   "execution_count": null,
   "metadata": {},
   "outputs": [],
   "source": [
    "#YOUR CODE HERE\n",
    "\n",
    "# plot\n"
   ]
  },
  {
   "cell_type": "markdown",
   "metadata": {},
   "source": [
    "## 1.2 Z-scoring \n",
    "<hr>\n",
    "\n",
    "Apply the z-scoring normalization to the data. Plot the data points."
   ]
  },
  {
   "cell_type": "code",
   "execution_count": null,
   "metadata": {},
   "outputs": [],
   "source": [
    "X = data\n",
    "print('mean before=',np.mean(X,axis=0))\n",
    "print('std before=',np.std(X,axis=0))\n",
    "\n",
    "#YOUR CODE HERE\n"
   ]
  },
  {
   "cell_type": "markdown",
   "metadata": {},
   "source": [
    "## 1.3 Co-variance matrix\n",
    "<hr>\n",
    "\n",
    "Definition: The $d \\times d$ co-variance matrix is defined as:\n",
    "\n",
    "$$\n",
    "\\Sigma \\ =  \\ \\frac{1}{n} \\sum_{i=1}^n x_ix_i^T \\ = \\  \\frac{1}{n} X^TX\n",
    "$$\n",
    "\n",
    "with the $n \\times d$ data matrix:\n",
    "\n",
    "$$\n",
    "X = \n",
    "\\left[ \n",
    "\\begin{array}{cccc}\n",
    "- x_1^T -\n",
    "\\\\ \n",
    " \\vdots\n",
    " \\\\\n",
    "- x_n^T -\n",
    "\\end{array} \n",
    "\\right]\n",
    "$$\n",
    "\n",
    "The data variance along j-dim is:\n",
    "$$\n",
    "\\Sigma_{jj} = \\sum_{i=1}^n x_{i(j)}^2\n",
    "$$\n",
    "\n",
    "The data co-variance along j-dim and l-dim is :\n",
    "$$\n",
    "\\Sigma_{jl} = \\sum_{i=1}^n x_{i(j)}x_{i(l)}\n",
    "$$\n",
    "\n",
    "\n",
    "Compute the co-variance matrix $\\Sigma$.\n"
   ]
  },
  {
   "cell_type": "code",
   "execution_count": null,
   "metadata": {},
   "outputs": [],
   "source": [
    "#YOUR CODE HERE\n",
    "Sigma = \n"
   ]
  },
  {
   "cell_type": "markdown",
   "metadata": {},
   "source": [
    "## 1.4 Principal directions\n",
    "<hr>\n",
    "\n",
    "The principal directions $U=[u_1,u_2]$ are given by the eigenvalue decomposition (EVD) of the co-variance matrix $\\Sigma$:\n",
    "\n",
    "$$\n",
    "\\Sigma = U S U^T\n",
    "$$\n",
    "\n",
    "Compute and plot the principal directions of the data points.\n",
    "\n",
    "Hint: You may use `plt.quiver` to draw arrows."
   ]
  },
  {
   "cell_type": "code",
   "execution_count": null,
   "metadata": {
    "collapsed": true
   },
   "outputs": [],
   "source": [
    "def EVD(X):\n",
    "    s, U = np.linalg.eig(X)\n",
    "    idx = s.argsort()[::-1] # decreasing order\n",
    "    return s[idx], U[:,idx]"
   ]
  },
  {
   "cell_type": "code",
   "execution_count": null,
   "metadata": {},
   "outputs": [],
   "source": [
    "#YOUR CODE HERE\n",
    "\n"
   ]
  },
  {
   "cell_type": "markdown",
   "metadata": {},
   "source": [
    "## 1.5 Main principal directions\n",
    "<hr>\n",
    "\n",
    "Data variations are captured by each principal direction. A natural rule is to select the first k principal directions that capture e.g. 85% of total variance:\n",
    "$$\n",
    "\\frac{\\sum_{l=1}^k S_{ll}}{\\sum_{l=1}^d S_{ll}} \\geq 0.85\n",
    "$$\n",
    "\n",
    "How many principal directions do we need to capture 85% of the total data variance?"
   ]
  },
  {
   "cell_type": "code",
   "execution_count": null,
   "metadata": {},
   "outputs": [],
   "source": [
    "#YOUR CODE HERE\n",
    "\n"
   ]
  },
  {
   "cell_type": "markdown",
   "metadata": {},
   "source": [
    "## 2.1 Load new dataset\n",
    "<hr>\n",
    "\n",
    "The data features are composed of $d$=3465 features, that is $x_i=(x_{i(1)},...,x_{i(3465)})$. <br>"
   ]
  },
  {
   "cell_type": "code",
   "execution_count": null,
   "metadata": {},
   "outputs": [],
   "source": [
    "# Yale Faces\n",
    "mat = scipy.io.loadmat('data/pca02_yale_faces.mat')\n",
    "X = mat['X']\n",
    "print(X.shape)"
   ]
  },
  {
   "cell_type": "markdown",
   "metadata": {},
   "source": [
    "## 2.2 Visualization\n",
    "<hr>\n",
    "\n",
    "The data are vectorized images. It is possible to visualize them by reshaping the 3465-D vectors into 55x63 matrices.\n",
    "\n",
    "Let us plot some images."
   ]
  },
  {
   "cell_type": "code",
   "execution_count": null,
   "metadata": {
    "collapsed": true
   },
   "outputs": [],
   "source": [
    "n = X.shape[0]\n",
    "d = X.shape[1]\n",
    "Nx = 55\n",
    "Ny = 63"
   ]
  },
  {
   "cell_type": "code",
   "execution_count": null,
   "metadata": {},
   "outputs": [],
   "source": [
    "# Plot some images\n",
    "plt.figure(10)\n",
    "rotated_img = scipy.ndimage.rotate(np.reshape(X[0,:],[Nx,Ny]), -90)\n",
    "plt.subplot(131).imshow(rotated_img, interpolation='nearest', cmap='Greys_r')\n",
    "plt.axis('equal')\n",
    "plt.axis('off')\n",
    "rotated_img = scipy.ndimage.rotate(np.reshape(X[10,:],[Nx,Ny]), -90)\n",
    "plt.subplot(132).imshow(rotated_img, interpolation='nearest', cmap='Greys_r')\n",
    "plt.axis('equal')\n",
    "plt.axis('off')\n",
    "rotated_img = scipy.ndimage.rotate(np.reshape(X[20,:],[Nx,Ny]), -90)\n",
    "plt.subplot(133).imshow(rotated_img, interpolation='nearest', cmap='Greys_r')\n",
    "plt.axis('equal')\n",
    "plt.axis('off')\n",
    "plt.show()"
   ]
  },
  {
   "cell_type": "markdown",
   "metadata": {},
   "source": [
    "## 2.3 Principal directions\n",
    "<hr>\n",
    "\n",
    "Compute the principal directions. Plot the largest 15 data variance $S_{ll}, \\ l=1,..,15$, along the principal directions $u_l, \\ l=1,..,15$."
   ]
  },
  {
   "cell_type": "code",
   "execution_count": null,
   "metadata": {
    "collapsed": true
   },
   "outputs": [],
   "source": [
    "#YOUR CODE HERE\n",
    "\n"
   ]
  },
  {
   "cell_type": "code",
   "execution_count": null,
   "metadata": {},
   "outputs": [],
   "source": [
    "# Plot\n",
    "plt.figure(11)\n",
    "plt.plot(s[:16])\n",
    "plt.title('Data variances captured by the first 15 principal directions')\n"
   ]
  },
  {
   "cell_type": "markdown",
   "metadata": {},
   "source": [
    "## 2.4 Main principal directions\n",
    "<hr>\n",
    "\n",
    "How many principal directions do we need to capture 95% of the total data variance?"
   ]
  },
  {
   "cell_type": "code",
   "execution_count": null,
   "metadata": {},
   "outputs": [],
   "source": [
    "#YOUR CODE HERE\n",
    "\n"
   ]
  },
  {
   "cell_type": "markdown",
   "metadata": {},
   "source": [
    "## 2.5 PCA as visualization tool [Bonus]\n",
    "<hr>\n"
   ]
  },
  {
   "cell_type": "code",
   "execution_count": null,
   "metadata": {},
   "outputs": [],
   "source": [
    "# Indicator vector of three classes of faces\n",
    "C = mat['Cgt'].squeeze()\n",
    "print(C.shape)"
   ]
  },
  {
   "cell_type": "code",
   "execution_count": null,
   "metadata": {
    "scrolled": false
   },
   "outputs": [],
   "source": [
    "# Principal components\n",
    "PC = X.dot(U)\n",
    "print(X.shape,U.shape,PC.shape)\n",
    "\n",
    "\n",
    "# 2D Plot\n",
    "plt.figure(12)\n",
    "plt.scatter(PC[:,0], PC[:,1], s=60*np.ones(27), c=C ) \n",
    "plt.show()\n"
   ]
  },
  {
   "cell_type": "code",
   "execution_count": null,
   "metadata": {},
   "outputs": [],
   "source": [
    "# 3D Plot\n",
    "fig = pylab.figure(14)\n",
    "ax = Axes3D(fig)\n",
    "size_vertex_plot = 100\n",
    "ax.scatter(PC[:,0], PC[:,1], PC[:,2], s=60*np.ones(27), c=C)\n",
    "pyplot.show()"
   ]
  },
  {
   "cell_type": "markdown",
   "metadata": {},
   "source": [
    "## 2.6 PCA as a data generation tool [Bonus]\n",
    "<hr>\n"
   ]
  },
  {
   "cell_type": "code",
   "execution_count": null,
   "metadata": {},
   "outputs": [],
   "source": [
    "# Generate new faces\n",
    "X = scipy.io.loadmat('data/pca02_yale_faces.mat')['X']\n",
    "meanX = np.mean(X,axis=0) \n",
    "PD = U.T\n",
    "\n",
    "plt.figure(15)\n",
    "k = 0; new_face = meanX - 0.025* s[k]* PD[k,:]\n",
    "rotated_img = scipy.ndimage.rotate(np.reshape(new_face,[Nx,Ny]), -90)\n",
    "plt.subplot(331).imshow(rotated_img, interpolation='nearest', cmap='Greys_r')\n",
    "plt.title('Mean Face - 0.025* PD(1)')\n",
    "plt.axis('off')\n",
    "k = 0; new_face = meanX - 0.0* s[k]* PD[k,:]\n",
    "rotated_img = scipy.ndimage.rotate(np.reshape(new_face,[Nx,Ny]), -90)\n",
    "plt.subplot(332).imshow(rotated_img, interpolation='nearest', cmap='Greys_r')\n",
    "plt.title('Mean Face')\n",
    "plt.axis('off')\n",
    "k = 0; new_face = meanX + 0.025* s[k]* PD[k,:]\n",
    "rotated_img = scipy.ndimage.rotate(np.reshape(new_face,[Nx,Ny]), -90)\n",
    "plt.subplot(333).imshow(rotated_img, interpolation='nearest', cmap='Greys_r')\n",
    "plt.title('Mean Face + 0.025* PD(1)')\n",
    "plt.axis('off')\n",
    "k = 1; new_face = meanX - 0.025* s[k]* PD[k,:]\n",
    "rotated_img = scipy.ndimage.rotate(np.reshape(new_face,[Nx,Ny]), -90)\n",
    "plt.subplot(334).imshow(rotated_img, interpolation='nearest', cmap='Greys_r')\n",
    "plt.title('Mean Face - 0.025* PD(2)')\n",
    "plt.axis('off')\n",
    "k = 1; new_face = meanX - 0.0* s[k]* PD[k,:]\n",
    "rotated_img = scipy.ndimage.rotate(np.reshape(new_face,[Nx,Ny]), -90)\n",
    "plt.subplot(335).imshow(rotated_img, interpolation='nearest', cmap='Greys_r')\n",
    "plt.title('Mean Face')\n",
    "plt.axis('off')\n",
    "k = 1; new_face = meanX + 0.025* s[k]* PD[k,:]\n",
    "rotated_img = scipy.ndimage.rotate(np.reshape(new_face,[Nx,Ny]), -90)\n",
    "plt.subplot(336).imshow(rotated_img, interpolation='nearest', cmap='Greys_r')\n",
    "plt.title('Mean Face + 0.025* PD(2)')\n",
    "plt.axis('off')\n",
    "k = 2; new_face = meanX - 0.025* s[k]* PD[k,:]\n",
    "rotated_img = scipy.ndimage.rotate(np.reshape(new_face,[Nx,Ny]), -90)\n",
    "plt.subplot(337).imshow(rotated_img, interpolation='nearest', cmap='Greys_r')\n",
    "plt.title('Mean Face - 0.025* PD(3)')\n",
    "plt.axis('off')\n",
    "k = 2; new_face = meanX - 0.0* s[k]* PD[k,:]\n",
    "rotated_img = scipy.ndimage.rotate(np.reshape(new_face,[Nx,Ny]), -90)\n",
    "plt.subplot(338).imshow(rotated_img, interpolation='nearest', cmap='Greys_r')\n",
    "plt.title('Mean Face')\n",
    "plt.axis('off')\n",
    "k = 2; new_face = meanX + 0.025* s[k]* PD[k,:]\n",
    "rotated_img = scipy.ndimage.rotate(np.reshape(new_face,[Nx,Ny]), -90)\n",
    "plt.subplot(339).imshow(rotated_img, interpolation='nearest', cmap='Greys_r')\n",
    "plt.title('Mean Face + 0.025* PD(3)')\n",
    "plt.axis('off')\n"
   ]
  },
  {
   "cell_type": "code",
   "execution_count": null,
   "metadata": {
    "collapsed": true
   },
   "outputs": [],
   "source": []
  }
 ],
 "metadata": {
  "kernelspec": {
   "display_name": "Python 3",
   "language": "python",
   "name": "python3"
  },
  "language_info": {
   "codemirror_mode": {
    "name": "ipython",
    "version": 3
   },
   "file_extension": ".py",
   "mimetype": "text/x-python",
   "name": "python",
   "nbconvert_exporter": "python",
   "pygments_lexer": "ipython3",
   "version": "3.6.2"
  }
 },
 "nbformat": 4,
 "nbformat_minor": 1
}
